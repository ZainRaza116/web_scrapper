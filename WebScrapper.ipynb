{
  "nbformat": 4,
  "nbformat_minor": 0,
  "metadata": {
    "colab": {
      "provenance": []
    },
    "kernelspec": {
      "name": "python3",
      "display_name": "Python 3"
    },
    "language_info": {
      "name": "python"
    }
  },
  "cells": [
    {
      "cell_type": "code",
      "execution_count": 2,
      "metadata": {
        "id": "hsZJCZlru9nj"
      },
      "outputs": [],
      "source": [
        "import requests\n",
        "from bs4 import BeautifulSoup\n"
      ]
    },
    {
      "cell_type": "code",
      "source": [
        "responce= requests.get(\"https://aws.amazon.com/blogs/iot/developing-a-remote-job-monitoring-application-at-the-edge-using-aws-iot-greengrass-part-1/\")\n",
        "pm=BeautifulSoup(responce.content)\n",
        "results=[]\n",
        "anchors=pm.find('div', attrs = {'class':'blog-tag-list'}) \n",
        "anchor=anchors.find_all(\"a\")\n",
        "for i in anchor:\n",
        "  tag=i.get_text(\"href\")\n",
        "  results.append(tag)\n",
        "  print(tag)\n"
      ],
      "metadata": {
        "id": "pvAEAsR8vH23",
        "colab": {
          "base_uri": "https://localhost:8080/"
        },
        "outputId": "6ab92594-2876-459a-828f-1ea1dd67249e"
      },
      "execution_count": 20,
      "outputs": [
        {
          "output_type": "stream",
          "name": "stdout",
          "text": [
            "aws iot greengrass v2\n",
            "IoT data processing and analysis at the edge\n",
            "UI application at the edge\n"
          ]
        }
      ]
    }
  ]
}